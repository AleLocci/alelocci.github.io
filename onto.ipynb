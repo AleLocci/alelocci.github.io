{
 "cells": [
  {
   "cell_type": "code",
   "execution_count": 43,
   "id": "ae90ff08-b33a-4039-a324-c264710b98d7",
   "metadata": {},
   "outputs": [],
   "source": [
    "from owlready2 import *"
   ]
  },
  {
   "cell_type": "code",
   "execution_count": 45,
   "id": "f6bdd23b-de34-4170-bad6-84b7ab127cde",
   "metadata": {},
   "outputs": [],
   "source": [
    "onto = get_ontology(\"milto6.rdf\")"
   ]
  },
  {
   "cell_type": "code",
   "execution_count": 47,
   "id": "782b7929-597f-4fd2-bd55-eb937d357947",
   "metadata": {},
   "outputs": [
    {
     "data": {
      "text/plain": [
       "[]"
      ]
     },
     "execution_count": 47,
     "metadata": {},
     "output_type": "execute_result"
    }
   ],
   "source": [
    "list(onto.classes())"
   ]
  },
  {
   "cell_type": "code",
   "execution_count": null,
   "id": "b1a9e2a5-551b-4b2d-8cfe-2cdda3338788",
   "metadata": {},
   "outputs": [],
   "source": []
  },
  {
   "cell_type": "code",
   "execution_count": null,
   "id": "468a2f31-1081-42a1-8b1d-b49b456b8b99",
   "metadata": {},
   "outputs": [],
   "source": []
  }
 ],
 "metadata": {
  "kernelspec": {
   "display_name": "Python 3 (ipykernel)",
   "language": "python",
   "name": "python3"
  },
  "language_info": {
   "codemirror_mode": {
    "name": "ipython",
    "version": 3
   },
   "file_extension": ".py",
   "mimetype": "text/x-python",
   "name": "python",
   "nbconvert_exporter": "python",
   "pygments_lexer": "ipython3",
   "version": "3.12.3"
  }
 },
 "nbformat": 4,
 "nbformat_minor": 5
}
